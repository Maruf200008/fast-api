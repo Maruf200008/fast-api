{
 "cells": [
  {
   "cell_type": "code",
   "execution_count": null,
   "id": "59c5839a",
   "metadata": {
    "vscode": {
     "languageId": "plaintext"
    }
   },
   "outputs": [],
   "source": [
    "import pandas as pd\n",
    "from sklearn.ensemble import RandomForestClassifier\n",
    "from sklearn.model_selection import train_test_split\n",
    "from sklearn.pipeline import Pipeline\n",
    "from sklearn.compose import ColumnTransformer\n",
    "from sklearn.preprocessing import OneHotEncoder\n",
    "from sklearn.metrics import classification_report, accuracy_score\n",
    "import numpy as np"
   ]
  },
  {
   "cell_type": "code",
   "execution_count": null,
   "id": "0b697304",
   "metadata": {
    "vscode": {
     "languageId": "plaintext"
    }
   },
   "outputs": [],
   "source": [
    "df = pd.read_csv('/content/insurance.csv')"
   ]
  },
  {
   "cell_type": "code",
   "execution_count": null,
   "id": "b388e892",
   "metadata": {
    "vscode": {
     "languageId": "plaintext"
    }
   },
   "outputs": [],
   "source": [
    "df.sample(5)"
   ]
  },
  {
   "cell_type": "code",
   "execution_count": null,
   "id": "69919478",
   "metadata": {
    "vscode": {
     "languageId": "plaintext"
    }
   },
   "outputs": [],
   "source": [
    "df_feat = df.copy()"
   ]
  },
  {
   "cell_type": "code",
   "execution_count": null,
   "id": "313afd5c",
   "metadata": {
    "vscode": {
     "languageId": "plaintext"
    }
   },
   "outputs": [],
   "source": [
    "# feature 1 : BMI\n",
    "df_feat['bmi'] = df_feat['weight']/ (df_feat['height']**2)"
   ]
  },
  {
   "cell_type": "code",
   "execution_count": null,
   "id": "c30bb9a3",
   "metadata": {
    "vscode": {
     "languageId": "plaintext"
    }
   },
   "outputs": [],
   "source": [
    "# Feature 2 : Age Group\n",
    "def age_group(age) :\n",
    "  if age < 25 :\n",
    "    return 'young'\n",
    "  elif age < 45 :\n",
    "    return 'adult'\n",
    "  elif age < 60 :\n",
    "    return 'millde_aged'\n",
    "  return 'senior'\n"
   ]
  },
  {
   "cell_type": "code",
   "execution_count": null,
   "id": "bf496725",
   "metadata": {
    "vscode": {
     "languageId": "plaintext"
    }
   },
   "outputs": [],
   "source": [
    "df_feat['age_group'] = df_feat['age'].apply(age_group)"
   ]
  },
  {
   "cell_type": "code",
   "execution_count": null,
   "id": "65b60987",
   "metadata": {
    "vscode": {
     "languageId": "plaintext"
    }
   },
   "outputs": [],
   "source": [
    "# Feature 3 : Lifestyle Risk\n",
    "def lifestyle_risk(row):\n",
    "  if row['smoker'] and row['bmi'] > 30:\n",
    "    return 'high'\n",
    "  elif row['smoker'] or row['bmi'] > 27:\n",
    "    return 'medium'\n",
    "  else :\n",
    "    return 'low'"
   ]
  },
  {
   "cell_type": "code",
   "execution_count": null,
   "id": "f7937f0d",
   "metadata": {
    "vscode": {
     "languageId": "plaintext"
    }
   },
   "outputs": [],
   "source": [
    "df_feat['lifestyle_risk'] = df_feat.apply(lifestyle_risk, axis=1)"
   ]
  },
  {
   "cell_type": "code",
   "execution_count": null,
   "id": "4efd0351",
   "metadata": {
    "vscode": {
     "languageId": "plaintext"
    }
   },
   "outputs": [],
   "source": [
    "\n",
    "tier_1_cities = [\"Mumbai\", \"Delhi\", \"Bangalore\", \"Chennai\", \"Kolkata\", \"Hyderabad\", \"Pune\"]\n",
    "tier_2_cities = [\n",
    "    \"Jaipur\", \"Chandigarh\", \"Indore\", \"Lucknow\", \"Patna\", \"Ranchi\", \"Visakhapatnam\", \"Coimbatore\",\n",
    "    \"Bhopal\", \"Nagpur\", \"Vadodara\", \"Surat\", \"Rajkot\", \"Jodhpur\", \"Raipur\", \"Amritsar\", \"Varanasi\",\n",
    "    \"Agra\", \"Dehradun\", \"Mysore\", \"Jabalpur\", \"Guwahati\", \"Thiruvananthapuram\", \"Ludhiana\", \"Nashik\",\n",
    "    \"Allahabad\", \"Udaipur\", \"Aurangabad\", \"Hubli\", \"Belgaum\", \"Salem\", \"Vijayawada\", \"Tiruchirappalli\",\n",
    "    \"Bhavnagar\", \"Gwalior\", \"Dhanbad\", \"Bareilly\", \"Aligarh\", \"Gaya\", \"Kozhikode\", \"Warangal\",\n",
    "    \"Kolhapur\", \"Bilaspur\", \"Jalandhar\", \"Noida\", \"Guntur\", \"Asansol\", \"Siliguri\"\n",
    "]"
   ]
  },
  {
   "cell_type": "code",
   "execution_count": null,
   "id": "6e37908d",
   "metadata": {
    "vscode": {
     "languageId": "plaintext"
    }
   },
   "outputs": [],
   "source": [
    "# Feature 4 : City Tier\n",
    "def city_tier(city):\n",
    "  if city in tier_1_cities:\n",
    "    return 1\n",
    "  elif city in tier_2_cities:\n",
    "    return 2\n",
    "  else:\n",
    "    return 3\n"
   ]
  },
  {
   "cell_type": "code",
   "execution_count": null,
   "id": "6301c2dc",
   "metadata": {
    "vscode": {
     "languageId": "plaintext"
    }
   },
   "outputs": [],
   "source": [
    "df_feat['city_tier'] = df_feat['city'].apply(city_tier)"
   ]
  },
  {
   "cell_type": "code",
   "execution_count": null,
   "id": "1840e6e3",
   "metadata": {
    "vscode": {
     "languageId": "plaintext"
    }
   },
   "outputs": [],
   "source": [
    "df_feat.drop(columns=['age', 'weight', 'height', 'smoker', 'city'])[['income_lpa', 'occupation', 'bmi', 'age_group', 'lifestyle_risk', 'city_tier', 'insurance_premium_category']].sample(5)"
   ]
  },
  {
   "cell_type": "code",
   "execution_count": null,
   "id": "520836e6",
   "metadata": {
    "vscode": {
     "languageId": "plaintext"
    }
   },
   "outputs": [],
   "source": [
    "# select features and target\n",
    "x = df_feat[['bmi', 'age_group', 'lifestyle_risk', 'city_tier', 'income_lpa', 'occupation']]\n",
    "y = df_feat['insurance_premium_category']"
   ]
  },
  {
   "cell_type": "code",
   "execution_count": null,
   "id": "c84dc6e9",
   "metadata": {
    "vscode": {
     "languageId": "plaintext"
    }
   },
   "outputs": [],
   "source": [
    "# Define categorial and numeric features\n",
    "categorical_features = ['age_group', 'lifestyle_risk', 'occupation', 'city_tier']\n",
    "numeric_features = ['bmi', 'income_lpa']"
   ]
  },
  {
   "cell_type": "code",
   "execution_count": null,
   "id": "92905155",
   "metadata": {
    "vscode": {
     "languageId": "plaintext"
    }
   },
   "outputs": [],
   "source": [
    "# create column transformr for OHE\n",
    "preprocessor = ColumnTransformer(\n",
    "    transformers=[\n",
    "        (\"cat\", OneHotEncoder(), categorical_features),\n",
    "        (\"num\", \"passthrough\", numeric_features)\n",
    "    ]\n",
    ")"
   ]
  },
  {
   "cell_type": "code",
   "execution_count": null,
   "id": "376fc80e",
   "metadata": {
    "vscode": {
     "languageId": "plaintext"
    }
   },
   "outputs": [],
   "source": [
    "# create a pipeline with preprocessing and random forest classifier\n",
    "pipeline = Pipeline(\n",
    "    steps=[\n",
    "        (\"preprocessor\", preprocessor),\n",
    "        (\"classifier\", RandomForestClassifier(random_state=42))\n",
    "    ]\n",
    ")"
   ]
  },
  {
   "cell_type": "code",
   "execution_count": null,
   "id": "b3c92c01",
   "metadata": {
    "vscode": {
     "languageId": "plaintext"
    }
   },
   "outputs": [],
   "source": [
    "# split data and train model\n",
    "x_train, x_test, y_train, y_test = train_test_split(x, y, test_size=0.2, random_state=1)\n",
    "pipeline.fit(x_train, y_train)"
   ]
  },
  {
   "cell_type": "code",
   "execution_count": null,
   "id": "baf778ce",
   "metadata": {
    "vscode": {
     "languageId": "plaintext"
    }
   },
   "outputs": [],
   "source": [
    "# Predict and evaluate\n",
    "y_pred = pipeline.predict(x_test)\n",
    "accuracy_score(y_test, y_pred)"
   ]
  },
  {
   "cell_type": "code",
   "execution_count": null,
   "id": "d168e161",
   "metadata": {
    "vscode": {
     "languageId": "plaintext"
    }
   },
   "outputs": [],
   "source": [
    "import pickle\n",
    "\n",
    "# Save the trained pipeline using pickle\n",
    "pickle_model_path = \"model.pkl\"\n",
    "with open(pickle_model_path, 'wb') as f:\n",
    "  pickle.dump(pipeline, f)"
   ]
  }
 ],
 "metadata": {
  "language_info": {
   "name": "python"
  }
 },
 "nbformat": 4,
 "nbformat_minor": 5
}
